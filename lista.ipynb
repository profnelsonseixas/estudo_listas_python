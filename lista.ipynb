{
 "cells": [
  {
   "cell_type": "markdown",
   "id": "d0c31147",
   "metadata": {},
   "source": [
    "# Listas"
   ]
  },
  {
   "cell_type": "code",
   "execution_count": 4,
   "id": "dcbef94f",
   "metadata": {},
   "outputs": [],
   "source": [
    "# Criação de listas\n",
    "\n",
    "lista1 = [1, 'a', 2.3]\n",
    "\n",
    "b = [1, 2, 3,4,5,6]\n"
   ]
  },
  {
   "cell_type": "code",
   "execution_count": 5,
   "id": "4ead9620",
   "metadata": {},
   "outputs": [
    {
     "name": "stdout",
     "output_type": "stream",
     "text": [
      "[1, 'a', 2.3]\n",
      "[1, 2, 3, 4, 5, 6]\n"
     ]
    }
   ],
   "source": [
    "print(lista1)\n",
    "\n",
    "print(b)"
   ]
  },
  {
   "cell_type": "code",
   "execution_count": 8,
   "id": "0cf6084b",
   "metadata": {},
   "outputs": [
    {
     "name": "stdout",
     "output_type": "stream",
     "text": [
      "1\n",
      "3\n"
     ]
    }
   ],
   "source": [
    "# Acessando os elemento da lista\n",
    "\n",
    "print(lista1[0])\n",
    "print(b[2])"
   ]
  },
  {
   "cell_type": "code",
   "execution_count": 9,
   "id": "c6eecbe0",
   "metadata": {},
   "outputs": [],
   "source": [
    "# Modificando um elemento da lista\n",
    "\n",
    "b[2]=15"
   ]
  },
  {
   "cell_type": "code",
   "execution_count": 10,
   "id": "12502f1f",
   "metadata": {},
   "outputs": [
    {
     "name": "stdout",
     "output_type": "stream",
     "text": [
      "[1, 2, 15, 4, 5, 6]\n"
     ]
    }
   ],
   "source": [
    "# Verificando a nova lista b\n",
    "print(b)"
   ]
  },
  {
   "cell_type": "markdown",
   "id": "9c9b959f",
   "metadata": {},
   "source": [
    "## Ordenação de listas"
   ]
  },
  {
   "cell_type": "code",
   "execution_count": 14,
   "id": "a92bf661",
   "metadata": {},
   "outputs": [
    {
     "name": "stdout",
     "output_type": "stream",
     "text": [
      "[1, 2, 4, 5, 6, 15]\n"
     ]
    }
   ],
   "source": [
    "# Ordenando a lista b\n",
    "\n",
    "\n",
    "c = sorted(b)\n",
    "\n",
    "print(c)\n"
   ]
  },
  {
   "cell_type": "code",
   "execution_count": 15,
   "id": "b1f22088",
   "metadata": {},
   "outputs": [],
   "source": [
    "# Usando o método sort\n",
    "d = b.sort()"
   ]
  },
  {
   "cell_type": "code",
   "execution_count": 16,
   "id": "35d5422a",
   "metadata": {},
   "outputs": [
    {
     "name": "stdout",
     "output_type": "stream",
     "text": [
      "None\n"
     ]
    }
   ],
   "source": [
    "print(d)"
   ]
  },
  {
   "cell_type": "code",
   "execution_count": 17,
   "id": "676a1606",
   "metadata": {},
   "outputs": [
    {
     "name": "stdout",
     "output_type": "stream",
     "text": [
      "[1, 2, 4, 5, 6, 15]\n"
     ]
    }
   ],
   "source": [
    "print(b)"
   ]
  },
  {
   "cell_type": "code",
   "execution_count": 21,
   "id": "190d35aa",
   "metadata": {},
   "outputs": [],
   "source": [
    "e = [2, 13, 6, 1, 9]"
   ]
  },
  {
   "cell_type": "code",
   "execution_count": 22,
   "id": "e4cc7e4b",
   "metadata": {},
   "outputs": [
    {
     "name": "stdout",
     "output_type": "stream",
     "text": [
      "None\n"
     ]
    }
   ],
   "source": [
    "print(e.sort())"
   ]
  },
  {
   "cell_type": "code",
   "execution_count": 23,
   "id": "2c427d61",
   "metadata": {},
   "outputs": [
    {
     "name": "stdout",
     "output_type": "stream",
     "text": [
      "[1, 2, 6, 9, 13]\n"
     ]
    }
   ],
   "source": [
    "print(e)"
   ]
  },
  {
   "cell_type": "code",
   "execution_count": null,
   "id": "d5c256c8",
   "metadata": {},
   "outputs": [],
   "source": []
  }
 ],
 "metadata": {
  "kernelspec": {
   "display_name": "Python 3 (ipykernel)",
   "language": "python",
   "name": "python3"
  },
  "language_info": {
   "codemirror_mode": {
    "name": "ipython",
    "version": 3
   },
   "file_extension": ".py",
   "mimetype": "text/x-python",
   "name": "python",
   "nbconvert_exporter": "python",
   "pygments_lexer": "ipython3",
   "version": "3.10.9"
  }
 },
 "nbformat": 4,
 "nbformat_minor": 5
}
